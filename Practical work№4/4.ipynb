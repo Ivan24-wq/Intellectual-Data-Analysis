{
 "cells": [
  {
   "cell_type": "markdown",
   "id": "21345f2d",
   "metadata": {},
   "source": [
    "<h1 align=\"center\">Практическая работа№4</h1>"
   ]
  },
  {
   "cell_type": "markdown",
   "id": "629cda70",
   "metadata": {},
   "source": [
    "1. Выберите любой размеченный датасет на kaggle.com в формате .csv и скачайте его. Напишите программу, которая проведет предварительную обработку данных этого датасета и получите структуру данных (список, словарь, датафрейм, массив - по вашему выбору), содержащую только численные данные."
   ]
  },
  {
   "cell_type": "code",
   "execution_count": 1,
   "id": "568c2eb8",
   "metadata": {},
   "outputs": [
    {
     "name": "stdout",
     "output_type": "stream",
     "text": [
      "Данные сохранились в json\n"
     ]
    }
   ],
   "source": [
    "import pandas as pd\n",
    "import json\n",
    "#Загрузка данных из файла\n",
    "df = pd.read_csv(\"youtube.csv\")\n",
    "\n",
    "#Для удобства удалим нечисловые колонки\n",
    "nums_df = df.select_dtypes(include=['number'])\n",
    "#Преобразование в словарь\n",
    "dict = nums_df.to_dict(orient='list')\n",
    "#Созранение в json\n",
    "with open(\"numer_data_json\", \"w\") as f:\n",
    "    json.dump(dict, f, indent=4)\n",
    "print(\"Данные сохранились в json\")"
   ]
  },
  {
   "cell_type": "markdown",
   "id": "18b48a71",
   "metadata": {},
   "source": [
    "1. Выберите любой размеченный датасет на kaggle.com в формате .csv и скачайте его. \n",
    "2. Напишите программу, которая проведет предварительную обработку данных этого датасета и получите структуру данных (список, словарь, датафрейм, массив - по вашему выбору), содержащую только численные данные.\n",
    "3. Сделайте предположения о распределениях значений признаков и проведите либо шкалирование, либо нормировку, по всем признакам (столбцам датафрейма). \n",
    "4. Постройте корреляционную матрицу.\n",
    "5. Устраните выбросы в данных. \n",
    "6. Избавьтесь от тождественных и противоречивых экземпляров.\n",
    "7. Снова постройте корреляционную матрицу - произошли ли изменения? \n",
    "8. Преобразуйте данные в целочисленную форму и сделайте размерность датасета равной 3.\n",
    "9. Постройте корреляционную матрицу.\n",
    "10. Просмотрите весь ваш код, проставьте комментарии и сделайте выводы после каждого построения корреляционной матрицы."
   ]
  },
  {
   "cell_type": "code",
   "execution_count": null,
   "id": "aa080e8f",
   "metadata": {},
   "outputs": [],
   "source": [
    "import pandas as pd\n",
    "import json\n",
    "from sklearn.preprocessing import MinMaxScaler\n",
    "from sklearn.decomposition import PCA\n",
    "import numpy as np\n",
    "import matplotlib.pyplot as plt\n",
    "import seaborn as sns\n",
    "#Загрузка данных из файла\n",
    "df = pd.read_csv(\"youtube.csv\")\n",
    "\n",
    "#Для удобства удалим нечисловые колонки\n",
    "nums_df = df.select_dtypes(include=['number'])\n",
    "#Преобразование в словарь\n",
    "dict = nums_df.to_dict(orient='list')\n",
    "#Созранение в json\n",
    "with open(\"numer_data_json\", \"w\") as f:\n",
    "    json.dump(dict, f, indent=4)\n",
    "print(\"Данные сохранились в json\")\n",
    "\n",
    "#Предположение распределения и нормализация\n",
    "scaler = MinMaxScaler()\n",
    "scaled_values = scaler.fit_transform(nums_df)\n",
    "scaler_df = pd.DataFrame(scaled_values, columns=nums_df.columns)\n",
    "#Строим кореляционную матрицу\n",
    "plt.figure(figsize=(8, 6))\n",
    "sns.heatmap(scaler_df.corr(), annot = True, cmap=\"coolwarm\")\n",
    "plt.title(\"Корреляционная матрица\")\n",
    "plt.show()\n",
    "\n",
    "#Устранение выбросов\n",
    "Q1 = scaler_df.quantile(0.25)\n",
    "Q2 = scaler_df.quantile(0.75)\n",
    "IQR = Q2 - Q1\n",
    "filter_df = scaler_df[~((scaler_df < (Q1 - 1.5 * IQR)) | (scaler_df > (Q2 + 1.5* IQR))).any(axis=1)]\n",
    "print(f\"После удаления выбросов {filter_df.shape}\")\n",
    "\n",
    "#Удаляю дублирующиеся точки\n",
    "filter_df = filter_df.drop_duplicates()\n",
    "#Корреляционная матрица\n",
    "plt.figure(figsize=(8, 6))\n",
    "sns.heatmap(scaler_df.corr(), annot = True, cmap=\"coolwarm\")\n",
    "plt.title(\"Корреляционная матрица(Без выбрососв)\")\n",
    "plt.show()\n",
    "\n",
    "#Преобразуем данные в числа\n",
    "int_df = (filter_df * 100).astype(int)\n",
    "#Уменьшение размерности\n",
    "pca = PCA(n_components=3)\n",
    "reduced_data = pca.fit_transform(int_df)\n",
    "reduced_df = pd.DataFrame(reduced_data, columns=['PC1', 'PC2', 'PC3'])\n",
    "\n",
    "#Итоговая корреляционная матрица\n",
    "plt.figure(figsize=(6,5))\n",
    "sns.heatmap(reduced_df.corr(), annot=True, cmap=\"coolwarm\")\n",
    "plt.title(\"Корреляционная матрица (после PCA)\")\n",
    "plt.show()"
   ]
  }
 ],
 "metadata": {
  "kernelspec": {
   "display_name": "Python 3",
   "language": "python",
   "name": "python3"
  },
  "language_info": {
   "codemirror_mode": {
    "name": "ipython",
    "version": 3
   },
   "file_extension": ".py",
   "mimetype": "text/x-python",
   "name": "python",
   "nbconvert_exporter": "python",
   "pygments_lexer": "ipython3",
   "version": "3.13.7"
  }
 },
 "nbformat": 4,
 "nbformat_minor": 5
}
