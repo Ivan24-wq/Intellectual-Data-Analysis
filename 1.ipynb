{
 "cells": [
  {
   "cell_type": "markdown",
   "id": "e8bfa378",
   "metadata": {},
   "source": [
    "1.1.2. Напишите модуль для нахождения НОД числа 8 и\n",
    "заданного 10-значного числа, не используя арифметические\n",
    "операции, но с использованием функций пользователя."
   ]
  },
  {
   "cell_type": "code",
   "execution_count": null,
   "id": "8f07a2ab",
   "metadata": {},
   "outputs": [],
   "source": [
    "def nod(n):\n",
    "\n",
    "    #Признак деления на 8\n",
    "    if n >> 3 << 3:\n",
    "        return 8\n",
    "    \n",
    "    #Признак деления на 4\n",
    "    elif n >> 2 << 2:\n",
    "        return 4\n",
    "    \n",
    "    #Признак деления на 2\n",
    "    elif n >> 1 << 1:\n",
    "        return 2\n",
    "    #Если нет общего тогда 1\n",
    "    else:\n",
    "        return 1\n",
    "#Проверка\n",
    "number = int(input(\"Введите 10 значное число\"))\n",
    "root = nod(number)\n",
    "print(f\"НОД 8 и {number} равен {root}\")"
   ]
  },
  {
   "cell_type": "markdown",
   "id": "fe9961e5",
   "metadata": {},
   "source": [
    "1.2.1. Создайте произвольный двухуровневый список из целых,\n",
    "вещественных и комплексных чисел. Выберите из него только\n",
    "комплексные числа и запишите их в кортеж."
   ]
  },
  {
   "cell_type": "code",
   "execution_count": null,
   "id": "253767f6",
   "metadata": {},
   "outputs": [],
   "source": [
    "#Создал двухуровленый список(матрица)\n",
    "matrix = [\n",
    "    [1, 2.9, 1 + 2j],\n",
    "    [5, 8.7, 3j],\n",
    "    [1 + 0j, 1, 1.3]\n",
    "]\n",
    "#Выбор комплексных чисел в кортеже\n",
    "complex_num = tuple(\n",
    "    x\n",
    "    for row in matrix\n",
    "    for x in row\n",
    "    if isinstance(x, complex)\n",
    ")\n",
    "\n",
    "print(matrix)\n",
    "print(complex_num)"
   ]
  },
  {
   "cell_type": "markdown",
   "id": "abf4c3b6",
   "metadata": {},
   "source": [
    "1.2.2. Создайте множество из 100 первых элементов\n",
    "последовательности частичных сумм ряда Фибоначчи. Выведите\n",
    "число значащих цифр у элемента последовательности с заданным\n",
    "номером."
   ]
  },
  {
   "cell_type": "code",
   "execution_count": null,
   "id": "15b5fe99",
   "metadata": {},
   "outputs": [],
   "source": [
    "n = int(input(\"Введите элемент: \"))\n",
    "m = int(input(\"Введите номер элемента: \"))\n",
    "\n",
    "#ПРограмма ряда Фибоначии\n",
    "f1 = f2 = 1\n",
    "print(f1, f2, end =' ')\n",
    "\n",
    "#Частичная сумма - это сумма всех элементов ряда Фибоначчи\n",
    "sum_el = [f1, f1 + f2]\n",
    "\n",
    "i = 2\n",
    "#Храним текущий элемент\n",
    "current_el = f1 + f2\n",
    "while i < n:\n",
    "    f1, f2 = f2, f1 + f2\n",
    "    print(f2, end =' ')\n",
    "    current_el += f2\n",
    "    #Добавляем текущий элемент в конец списка\n",
    "    sum_el.append(current_el)\n",
    "    i += 1\n",
    "print(\"\\nЧастичные суммы: \", sum_el)\n",
    "\n",
    "#Номер элемента последовательности\n",
    "if 1 <= m <= len(sum_el):\n",
    "    element = sum_el[m - 1]\n",
    "    digit = len(str(element))\n",
    "    print(f\"{m}-й элемент частичных сумм = {element}\")\n",
    "    print(f\" Количество цифр: {digit}\")\n",
    "else:\n",
    "    print(\"Элемент не найден\")"
   ]
  }
 ],
 "metadata": {
  "kernelspec": {
   "display_name": "Python 3",
   "language": "python",
   "name": "python3"
  },
  "language_info": {
   "codemirror_mode": {
    "name": "ipython",
    "version": 3
   },
   "file_extension": ".py",
   "mimetype": "text/x-python",
   "name": "python",
   "nbconvert_exporter": "python",
   "pygments_lexer": "ipython3",
   "version": "3.13.1"
  }
 },
 "nbformat": 4,
 "nbformat_minor": 5
}
