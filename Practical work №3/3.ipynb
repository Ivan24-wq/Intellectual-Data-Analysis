{
 "cells": [
  {
   "cell_type": "markdown",
   "id": "4012c880",
   "metadata": {},
   "source": [
    "Последовательность выполнения:\n",
    "\n",
    "1. Выберите на каком-нибудь сайте объявлений или в интернет-магазине интересующую вас рубрику самого нижнего уровня (например, Для дома и дачи – Мебель и интерьер –\n",
    "Кровати, диваны и кресла – Диваны).\n",
    "2. Убедитесь в том, что сайт учел в выдаче ваше местоположение (если нет – укажите его).\n",
    "3. Обратите внимание на адрес полученной вами страницы и на то, как он изменяется при переходе к следующей странице выдачи (где и как указывается номер страницы), зафиксируйте это.\n",
    "4. Откройте код страницы выдачи (F12 или правой кнопкой мыши).\n",
    "Выберите ключевые элементы блока записи об одном объявлении так, чтобы вы могли выделить этот блок из всего текста: например, это может быть определенный тег, с определенным набором атрибутов.\n"
   ]
  },
  {
   "cell_type": "markdown",
   "id": "8290d602",
   "metadata": {},
   "source": [
    "## Взял сайт Крым Мебель"
   ]
  },
  {
   "cell_type": "code",
   "execution_count": 2,
   "id": "363c62c3",
   "metadata": {},
   "outputs": [
    {
     "name": "stdout",
     "output_type": "stream",
     "text": [
      "Название: Диван Кембридж\n",
      "Цена: 111'282\n",
      "ID: 342799\n",
      "Код товара: RIV-020-01\n"
     ]
    }
   ],
   "source": [
    "from bs4 import BeautifulSoup\n",
    "import requests\n",
    "\n",
    "url = 'https://almaz-meb.ru/divany/divan-kembridzh/'  # конкретный товар\n",
    "headers = {'User-Agent': 'Mozilla/5.0'}\n",
    "\n",
    "response = requests.get(url, headers=headers)\n",
    "soup = BeautifulSoup(response.text, 'html.parser')\n",
    "\n",
    "# Название\n",
    "title = soup.find('h1', class_='ut2-pb__title')\n",
    "print(\"Название:\", title.get_text(strip=True) if title else \"не найдено\")\n",
    "\n",
    "# Цена и ID\n",
    "price_tag = soup.find('span', id=lambda x: x and x.startswith('sec_discounted_price_'))\n",
    "if price_tag:\n",
    "    print(\"Цена:\", price_tag.get_text(strip=True))\n",
    "    print(\"ID:\", price_tag.get('id').split('_')[-1])\n",
    "else:\n",
    "    print(\"Цена не найдена\")\n",
    "\n",
    "# Код товара\n",
    "code_tag = soup.find('span', id=lambda x: x and x.startswith('product_code_'))\n",
    "print(\"Код товара:\", code_tag.get_text(strip=True) if code_tag else \"не найден\")\n"
   ]
  },
  {
   "cell_type": "code",
   "execution_count": 1,
   "id": "4a7bb57e",
   "metadata": {},
   "outputs": [
    {
     "name": "stdout",
     "output_type": "stream",
     "text": [
      "Статус: 200\n",
      "ID: 351485\n",
      "Цена: 19000\n",
      "Название: Диван Евро\n",
      "Код товара: ALL-004-01\n",
      "id: 351485 | Цена: 19000 | Диван Евро, | Код товара: ALL-004-01\n",
      "ID: 349022\n",
      "Цена: 19900\n",
      "Название: Диван Комфорт\n",
      "Код товара: MU-023-01\n",
      "id: 349022 | Цена: 19900 | Диван Комфорт, | Код товара: MU-023-01\n",
      "ID: 349023\n",
      "Цена: 19900\n",
      "Название: Диван Эрика\n",
      "Код товара: MU-024-01\n",
      "id: 349023 | Цена: 19900 | Диван Эрика, | Код товара: MU-024-01\n",
      "ID: 260445\n",
      "Цена: 21000\n",
      "Название: Диван Тесла\n",
      "Код товара: ALL-001-01\n",
      "id: 260445 | Цена: 21000 | Диван Тесла, | Код товара: ALL-001-01\n"
     ]
    }
   ],
   "source": [
    "from bs4 import BeautifulSoup as BeSo\n",
    "import requests\n",
    "import re\n",
    "\n",
    "url = 'https://almaz-meb.ru/divany/'\n",
    "headers = {\n",
    "    'User-Agent': 'Mozilla/5.0 (Macintosh; Intel Mac OS X 10_15_7) AppleWebKit/605.1.15 (KHTML, like Gecko) Version/17.0 Safari/605.1.15'\n",
    "}\n",
    "\n",
    "# Проверяем отвечает ли сайт\n",
    "response = requests.get(url, headers=headers)\n",
    "print(f\"Статус: {response.status_code}\")\n",
    "soup = BeSo(response.text, \"html.parser\")\n",
    "\n",
    "# Ссылки на товары\n",
    "links = [a[\"href\"] for a in soup.find_all(\"a\", class_=\"product-title\", href=True)]\n",
    "\n",
    "#Сортировка по цене\n",
    "min_price = 3000\n",
    "max_price = 50000\n",
    "\n",
    "# Будем парсить 4 товара\n",
    "for link in links[:4]:\n",
    "    if link.startswith(\"/\"):\n",
    "        product_url = \"https://almaz-meb.ru\" + link\n",
    "    else:\n",
    "        product_url = link\n",
    "\n",
    "    res = requests.get(product_url, headers=headers)\n",
    "    p_soup = BeSo(res.text, \"html.parser\")\n",
    "\n",
    "    # Цена и ID\n",
    "    price_tag = p_soup.find(\"span\", id=lambda x: x and x.startswith('sec_discounted_price_'))\n",
    "    if price_tag:\n",
    "        price_text = price_tag.get_text(strip= True)\n",
    "        price = int(re.sub(r'\\D', '', price_text))\n",
    "        element_id = price_tag.get(\"id\")\n",
    "        item_id = element_id.split(\"_\")[-1]\n",
    "        print(f\"ID: {item_id}\")\n",
    "        print(f\"Цена: {price}\")\n",
    "    else:\n",
    "        print(\"Объявление не найдено\")\n",
    "        continue\n",
    "    # Проврка входим ли в ценовой диапазон\n",
    "    if not(min_price <= price <= max_price):\n",
    "        print(f\"Цена: {price} в не ценового диапазона: ({min_price} - {max_price})\")\n",
    "\n",
    "    # Название\n",
    "    title_tag = p_soup.find(\"h1\", class_=\"ut2-pb__title\")\n",
    "    if title_tag:\n",
    "        title = title_tag.get_text(strip=True)\n",
    "        print(f\"Название: {title}\")\n",
    "    else:\n",
    "        print(\"Объявление не найдено\")\n",
    "    \n",
    "    # Код товара\n",
    "    code_tag = p_soup.find(\"span\", id=lambda x: x and x.startswith(\"product_code_\"))\n",
    "    if code_tag:\n",
    "        code = code_tag.get_text(strip=True)\n",
    "        print(f\"Код товара: {code}\")\n",
    "    else:\n",
    "        print(\"Объявление не найдено\")\n",
    "    \n",
    "    print(f\"id: {item_id} | Цена: {price} | {title}, | Код товара: {code}\")\n"
   ]
  }
 ],
 "metadata": {
  "kernelspec": {
   "display_name": "Python 3",
   "language": "python",
   "name": "python3"
  },
  "language_info": {
   "codemirror_mode": {
    "name": "ipython",
    "version": 3
   },
   "file_extension": ".py",
   "mimetype": "text/x-python",
   "name": "python",
   "nbconvert_exporter": "python",
   "pygments_lexer": "ipython3",
   "version": "3.13.7"
  }
 },
 "nbformat": 4,
 "nbformat_minor": 5
}
