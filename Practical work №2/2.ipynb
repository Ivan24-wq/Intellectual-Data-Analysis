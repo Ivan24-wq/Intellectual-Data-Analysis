{
 "cells": [
  {
   "cell_type": "markdown",
   "id": "f6a11d71",
   "metadata": {},
   "source": [
    "2.\tНапишите программный код в виде функции, реализующий проверку описанной в пособии гипотезы о стрельбе. Параметры гипотезы и ее проверки (число испытаний, число промахов, вероятность промаха по нулевой гипотезе, по альтернативной гипотезе, уровень значимости и желаемая мощность проверки) сделайте вводимыми параметрами."
   ]
  },
  {
   "cell_type": "code",
   "execution_count": null,
   "id": "ccaefd8d",
   "metadata": {},
   "outputs": [],
   "source": [
    "from math import comb\n",
    "#Вероятность получить k успехов\n",
    "def kf_binomial(n, k, p):\n",
    "    return comb(n, k) * (p**k) * ((1 - p) ** (n - k)) #Реализация биномиального коефициента\n",
    "\n",
    "#Эксперимент\n",
    "def test(n, k,  p0 = 0.1, alpha = 0.05):\n",
    "    #Вероятность наблюдаемого\n",
    "    p_obs = kf_binomial(n, k, p0)\n",
    "    #Суума всехисходов эксперимента\n",
    "    probs = [kf_binomial(n, i, p0) for i in range(n + 1)]\n",
    "    p_test = sum(p for p in probs if p <= p_obs + 1e-15)\n",
    "\n",
    "    print(f\"Нулевая гипотеза: p = {p0}\")\n",
    "    print(f\"Число промахов: {k} из {n}\")\n",
    "    print(f\"p_test = {p_test:.3f}\")\n",
    "\n",
    "    if p_test < alpha:\n",
    "        print(\"Отвергаем\")\n",
    "    else:\n",
    "        print(\"Нет оснований отвергать\")\n",
    "    return p_test\n",
    "\n",
    "test(n = 100, k = 12, p0=0.2, alpha=0.05)"
   ]
  },
  {
   "cell_type": "markdown",
   "id": "7f92ab9d",
   "metadata": {},
   "source": [
    "Определите предельное число промахов (сверху и снизу) для заданного уровня значимости. Как это число зависит от уровня значимости? Почему так?"
   ]
  }
 ],
 "metadata": {
  "kernelspec": {
   "display_name": "Python 3",
   "language": "python",
   "name": "python3"
  },
  "language_info": {
   "codemirror_mode": {
    "name": "ipython",
    "version": 3
   },
   "file_extension": ".py",
   "mimetype": "text/x-python",
   "name": "python",
   "nbconvert_exporter": "python",
   "pygments_lexer": "ipython3",
   "version": "3.13.0"
  }
 },
 "nbformat": 4,
 "nbformat_minor": 5
}
