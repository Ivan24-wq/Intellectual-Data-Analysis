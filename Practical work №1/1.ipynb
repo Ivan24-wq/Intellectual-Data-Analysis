{
 "cells": [
  {
   "cell_type": "markdown",
   "id": "e8bfa378",
   "metadata": {},
   "source": [
    "1.1.2. Напишите модуль для нахождения НОД числа 8 и\n",
    "заданного 10-значного числа, не используя арифметические\n",
    "операции, но с использованием функций пользователя."
   ]
  },
  {
   "cell_type": "code",
   "execution_count": 1,
   "id": "8f07a2ab",
   "metadata": {},
   "outputs": [
    {
     "name": "stdout",
     "output_type": "stream",
     "text": [
      "8\n"
     ]
    }
   ],
   "source": [
    "def gcd_8(n: int) -> int:\n",
    "    # преобразуем в двоичную строку\n",
    "    b = bin(n)[2:]  \n",
    "    \n",
    "    if b.endswith(\"000\"):\n",
    "        return 8\n",
    "    elif b.endswith(\"00\"):\n",
    "        return 4\n",
    "    elif b.endswith(\"0\"):\n",
    "        return 2\n",
    "    else:\n",
    "        return 1\n",
    "\n",
    "\n",
    "\n",
    "N = 1000000000\n",
    "print(gcd_8(N)) "
   ]
  },
  {
   "cell_type": "markdown",
   "id": "fe9961e5",
   "metadata": {},
   "source": [
    "1.2.1. Создайте произвольный двухуровневый список из целых,\n",
    "вещественных и комплексных чисел. Выберите из него только\n",
    "комплексные числа и запишите их в кортеж."
   ]
  },
  {
   "cell_type": "code",
   "execution_count": null,
   "id": "253767f6",
   "metadata": {},
   "outputs": [],
   "source": [
    "#Создал двухуровленый список(матрица)\n",
    "matrix = [\n",
    "    [1, 2.9, 1 + 2j],\n",
    "    [5, 8.7, 3j],\n",
    "    [1 + 0j, 1, 1.3]\n",
    "]\n",
    "#Выбор комплексных чисел в кортеже\n",
    "complex_num = tuple(\n",
    "    x\n",
    "    for row in matrix\n",
    "    for x in row\n",
    "    if isinstance(x, complex)\n",
    ")\n",
    "\n",
    "print(matrix)\n",
    "print(complex_num)"
   ]
  },
  {
   "cell_type": "markdown",
   "id": "abf4c3b6",
   "metadata": {},
   "source": [
    "1.2.2. Создайте множество из 100 первых элементов\n",
    "последовательности частичных сумм ряда Фибоначчи. Выведите\n",
    "число значащих цифр у элемента последовательности с заданным\n",
    "номером."
   ]
  },
  {
   "cell_type": "code",
   "execution_count": 1,
   "id": "15b5fe99",
   "metadata": {},
   "outputs": [
    {
     "name": "stdout",
     "output_type": "stream",
     "text": [
      "1 1 2 3 5 8 13 21 34 55 \n",
      "Частичные суммы:  [1, 2, 4, 7, 12, 20, 33, 54, 88, 143]\n",
      "6-й элемент частичных сумм = 20\n",
      " Количество цифр: 2\n"
     ]
    }
   ],
   "source": [
    "n = int(input(\"Введите элемент: \"))\n",
    "m = int(input(\"Введите номер элемента: \"))\n",
    "\n",
    "#ПРограмма ряда Фибоначии\n",
    "f1 = f2 = 1\n",
    "print(f1, f2, end =' ')\n",
    "\n",
    "#Частичная сумма - это сумма всех элементов ряда Фибоначчи\n",
    "sum_el = [f1, f1 + f2]\n",
    "\n",
    "i = 2\n",
    "#Храним текущий элемент\n",
    "current_el = f1 + f2\n",
    "while i < n:\n",
    "    f1, f2 = f2, f1 + f2\n",
    "    print(f2, end =' ')\n",
    "    current_el += f2\n",
    "    #Добавляем текущий элемент в конец списка\n",
    "    sum_el.append(current_el)\n",
    "    i += 1\n",
    "print(\"\\nЧастичные суммы: \", sum_el)\n",
    "\n",
    "#Номер элемента последовательности\n",
    "if 1 <= m <= len(sum_el):\n",
    "    element = sum_el[m - 1]\n",
    "    digit = len(str(element))\n",
    "    print(f\"{m}-й элемент частичных сумм = {element}\")\n",
    "    print(f\" Количество цифр: {digit}\")\n",
    "else:\n",
    "    print(\"Элемент не найден\")"
   ]
  },
  {
   "cell_type": "markdown",
   "id": "366fa080",
   "metadata": {},
   "source": [
    "1.3.1. Создайте короткий скрипт, находящий все нули заданной\n",
    "алгебраической функции на заданном интервале (переменная\n",
    "формата float)."
   ]
  },
  {
   "cell_type": "code",
   "execution_count": null,
   "id": "aed223be",
   "metadata": {},
   "outputs": [],
   "source": [
    "# Исходная функция\n",
    "import math\n",
    "def f(x):\n",
    "    return math.sin(x)\n",
    "\n",
    "# Метод дихотомии\n",
    "def dichotomy(a, b, epsilon=0.00001):\n",
    "    if f(a) * f(b) > 0:\n",
    "        return None \n",
    "    while abs(b - a) > epsilon:\n",
    "        c = (a + b) / 2\n",
    "        if f(a) * f(c) < 0:\n",
    "            b = c\n",
    "        else:\n",
    "            a = c\n",
    "    return (a + b) / 2\n",
    "\n",
    "# Интервал поиска\n",
    "x1 = -20\n",
    "x2 = 20\n",
    "step = 0.4\n",
    "roots = []\n",
    "\n",
    "x = x1\n",
    "while x < x2:\n",
    "    root = dichotomy(x, x + step)\n",
    "    if root is not None:         \n",
    "        root = round(root, 3)    #Окруляем до 3 знаков\n",
    "        if root not in roots:    \n",
    "            roots.append(root)\n",
    "    x += step\n",
    "\n",
    "print(\"Корни:\", roots)\n"
   ]
  },
  {
   "cell_type": "markdown",
   "id": "b40aac3d",
   "metadata": {},
   "source": [
    "1.3.3. Скачайте любую статью (например, с Habr.ru) и сформируйте из нее строку. Посчитайте частотности для всех слов,\n",
    "содержащихся в ней."
   ]
  },
  {
   "cell_type": "code",
   "execution_count": null,
   "id": "4f52f126",
   "metadata": {},
   "outputs": [],
   "source": [
    "from newspaper import Article\n",
    "import string\n",
    "import pymorphy3\n",
    "from collections import Counter\n",
    "import re\n",
    "\n",
    "#Инициалищируем анализатор\n",
    "analizator = pymorphy3.MorphAnalyzer()\n",
    "\n",
    "url = 'https://habr.com/ru/companies/selectel/articles/946726/'\n",
    "\n",
    "\n",
    "article = Article(url)\n",
    "\n",
    "article.download()\n",
    "article.parse()\n",
    "\n",
    "text = article.text\n",
    "\n",
    "#Функция для примедения к нормальной форме\n",
    "def lemmatizator(text):\n",
    "    #Чиста от знаков приминания\n",
    "    clean_text = re.sub(r'[^\\w\\s]', '', text.lower())\n",
    "    words = clean_text.split()\n",
    "    #Приведение каждого слова\n",
    "    lemmatized = []\n",
    "    for word in words:\n",
    "        if word and len(word) > 2:\n",
    "            parsed = analizator.parse(word)[0]\n",
    "            lemmatized.append(parsed.normal_form)\n",
    "    return lemmatized\n",
    "lemmatixed_words = lemmatizator(text)\n",
    "#Частности\n",
    "word_freq = Counter(lemmatixed_words)\n",
    "\n",
    "print(\"=\" * 60)\n",
    "print(\"Заголовок\")\n",
    "print(article.title)\n",
    "print(\"\\n\" + \"=\" * 60)\n",
    "print(\"Топ 10 самых частых слов\")\n",
    "print(\"=\" * 60)\n",
    "for word, count in word_freq.most_common(10):\n",
    "    print(f\"{word}: {count}\")\n",
    "print(\"\\n\" + \"=\" * 60)\n",
    "print(f\"Всего уникальных слов: {len(word_freq)}\")\n",
    "\n",
    "\n",
    "print(f\"Всего слов в тексте: {len(lemmatixed_words)}\")"
   ]
  },
  {
   "cell_type": "markdown",
   "id": "b23f2b4e",
   "metadata": {},
   "source": [
    "1.4.1. Создайте множество из случайных натуральных чисел размером в 10000 элементов. Осуществите из него случайную выборку 10 элементов без возвращения, \n",
    "а затем с возвращением, не используя методы sample и choice. Зафиксируйте время выполнения. \n",
    "Сделайте то же самое с использованием указанных методов модуля random и сравните скорости выполнения."
   ]
  },
  {
   "cell_type": "code",
   "execution_count": null,
   "id": "43ae31c5",
   "metadata": {},
   "outputs": [],
   "source": [
    "import random\n",
    "import time\n",
    "\n",
    "# Множество из случайных чисел\n",
    "my_nums = {random.randint(1, 10000) for _ in range(10000)}\n",
    "nums = list(my_nums)\n",
    "\n",
    "#Без sample choise\n",
    "start = time.perf_counter()\n",
    "for _ in range(100000):  # повторим 10000 раз\n",
    "    chosen_not_return = []\n",
    "    used = set()\n",
    "    while len(chosen_not_return) < 10:\n",
    "        idx = random.randint(0, len(nums) - 1)\n",
    "        if idx not in used:\n",
    "            chosen_not_return.append(nums[idx])\n",
    "            used.add(idx)\n",
    "\n",
    "     #В возвращением       \n",
    "    chosen_with_return = []\n",
    "    for _ in range(10):\n",
    "        idx = random.randint(0, len(nums) - 1)\n",
    "        chosen_with_return.append(nums[idx])\n",
    "end = time.perf_counter()\n",
    "time_o = end - start\n",
    "\n",
    "#С sampe choise\n",
    "start = time.perf_counter()\n",
    "for _ in range(100000):\n",
    "    chosen_not_return_c = random.sample(nums, 50)\n",
    "    chosen_with_return_c = [random.choice(nums) for _ in range(10)]\n",
    "end = time.perf_counter()\n",
    "time_L = end - start\n",
    "\n",
    "print(\"Без использования sample/choice: \", time_o, \"секунд\")\n",
    "print(\"Используя sample/choice: \", time_L, \"секунд\")\n"
   ]
  },
  {
   "cell_type": "markdown",
   "id": "2d596ac0",
   "metadata": {},
   "source": [
    "1.4.3. Создайте класс Frac, типичный экземпляр которого является обыкновенной дробью. Опишите методы обращения,\n",
    "сложения и умножения."
   ]
  },
  {
   "cell_type": "code",
   "execution_count": 1,
   "id": "09a3f43d",
   "metadata": {},
   "outputs": [
    {
     "name": "stdout",
     "output_type": "stream",
     "text": [
      "a =  2/3\n",
      "b =  3/4\n",
      "a + b =  17/12\n",
      "a * b =  1/2\n",
      "inverse(a) =  3/2\n"
     ]
    }
   ],
   "source": [
    "import math\n",
    "#Класс для работы с дробью\n",
    "class Frac:\n",
    "    def __init__(self, numerator, denominator):\n",
    "        if denominator == 0:\n",
    "            raise ValueError(\"Знаменатель не может равняться нулю!\")\n",
    "        \n",
    "        self.numerator = numerator\n",
    "        self.denominator = denominator\n",
    "        self._reduce()\n",
    "    \n",
    "    #Сокращение дробей\n",
    "    def _reduce(self):\n",
    "        g = math.gcd(self.numerator, self.denominator)\n",
    "        self.numerator //= g\n",
    "        self.denominator //= g\n",
    "        if self.denominator < 0:\n",
    "            self.numerator = -self.numerator\n",
    "            self.denominator = -self.denominator\n",
    "    #вывод в виде дроби\n",
    "    def __str__(self):\n",
    "        if self.denominator == 1:\n",
    "            return str(self.numerator)\n",
    "        return f\"{self.numerator}/{self.denominator}\"\n",
    "    \n",
    "    #Функция для возврата обратной дроби\n",
    "    def inverse(self):\n",
    "        if self.numerator == 0:\n",
    "            raise ZeroDivisionError(\"Нельзя обратить нулевую дробь!\")\n",
    "        return Frac(self.denominator, self.numerator)\n",
    "    \n",
    "    #Словжение дробей\n",
    "    def __add__(self, other):\n",
    "        if not isinstance(other, Frac):\n",
    "            other = Frac(other)\n",
    "        new_numerator = self.numerator * other.denominator + self.denominator * other.numerator\n",
    "        new_denominator = self.denominator * other.denominator\n",
    "        return Frac(new_numerator, new_denominator)\n",
    "    #Умножение дробей\n",
    "    def __mul__(self, other):\n",
    "        if not isinstance(other, Frac):\n",
    "            other = Frac(other)\n",
    "        new_numerator = self.numerator * other.numerator\n",
    "        new_denominator = self.denominator * other.denominator\n",
    "        return Frac(new_numerator, new_denominator)\n",
    "    \n",
    "\n",
    "a = Frac(2, 3)\n",
    "b = Frac(3, 4)\n",
    "print(\"a = \", a)\n",
    "print(\"b = \", b)\n",
    "print(\"a + b = \", a + b)\n",
    "print(\"a * b = \", a * b)\n",
    "print(\"inverse(a) = \", a.inverse())"
   ]
  },
  {
   "cell_type": "markdown",
   "id": "ec2bf5a8",
   "metadata": {},
   "source": [
    "1.5.1. Постройте графики стандартного отклонения температур по месяцам года для Москвы и Анадыря, пользуясь данными\n",
    "Gismeteo (https://www.gismeteo.ru/diary)."
   ]
  },
  {
   "cell_type": "code",
   "execution_count": null,
   "id": "fdd6f48f",
   "metadata": {},
   "outputs": [],
   "source": [
    "import pandas as pd\n",
    "import matplotlib.pyplot as plt\n",
    "\n",
    "def main(file):\n",
    "    #Загрузка данных\n",
    "    df = pd.read_csv(file, header=None, names=['date', 'temperature'], encoding='cp1251', sep=';', usecols=[0, 1])\n",
    "    \n",
    "    #Обработка температур\n",
    "    df['temperature'] = pd.to_numeric(df['temperature'], errors='coerce')#Преобразуем в числа если можем\n",
    "    df = df.dropna(subset=['temperature']) #Удаляем всё что не преобразовалось(мусор если он есть)\n",
    "    \n",
    "    #Обработка дат\n",
    "    df['date'] = pd.to_datetime(df['date'], format='%d.%m.%Y %H:%M', errors='coerce')#Преобразуем числа в дату\n",
    "    df = df.dropna(subset=['date']) #Удаляем всё что не преобразовалось(мусор если он есть)\n",
    "    \n",
    "    #Среднесуточные температуры\n",
    "    df['date_only'] = df['date'].dt.date # Добавляем колонку дата БЕЗ ВРЕМЕНИ(в таблице есть несколько замеров в один день но в разное время)\n",
    "    daily_avg = df.groupby('date_only')['temperature'].mean().reset_index() #Считаем средние температуры в день\n",
    "    \n",
    "    \n",
    "    #Добавляем месяц\n",
    "    daily_avg['month'] = pd.to_datetime(daily_avg['date_only']).dt.month #Добовляем колонку месяц 1-12\n",
    "    \n",
    "    #Стандартное отклонение по месяцам\n",
    "    monthly_std = daily_avg.groupby('month')['temperature'].std().reset_index()#Стандартное отклонение по месяцам\n",
    "    monthly_std.columns = ['month', 'std_deviation'] #Для удобства оставляем только колонку месяц и отколонение\n",
    "    \n",
    "    return monthly_std\n",
    "\n",
    "msk = main(r'D:\\IAD\\Intellectual-Data-Analysis\\moskov.csv')\n",
    "anadyr = main(r'D:\\IAD\\Intellectual-Data-Analysis\\anadyr.csv')\n",
    "\n",
    "#Построение графика\n",
    "plt.figure(figsize=(12, 6))\n",
    "plt.plot(msk['month'], msk['std_deviation'], marker='o', label='Москва', linewidth=2, markersize=8)\n",
    "plt.plot(anadyr['month'], anadyr['std_deviation'], marker='s', label='Анадырь', linewidth=2, markersize=8)\n",
    "\n",
    "#Настройки графика\n",
    "plt.title('Стандартное отклонение температур по месяцам', fontsize=14)\n",
    "plt.xlabel('Месяц', fontsize=12)\n",
    "plt.ylabel('Стандартное отклонение (°C)', fontsize=12)\n",
    "plt.xticks(range(1, 13), ['Янв', 'Фев', 'Мар', 'Апр', 'Май', 'Июн', 'Июл', 'Авг', 'Сен', 'Окт', 'Ноя', 'Дек'])\n",
    "plt.grid(True, alpha=0.3)\n",
    "plt.legend(fontsize=12)\n",
    "plt.tight_layout()\n",
    "plt.show()\n"
   ]
  },
  {
   "cell_type": "markdown",
   "id": "bc3c150a",
   "metadata": {},
   "source": [
    "1.5.2. Постройте три столбчатые диаграммы населения 5 стран мира (по вашему выбору) в 2000, 2010 и 2020 годах по данным\n",
    "ресурса worldometer"
   ]
  },
  {
   "cell_type": "code",
   "execution_count": 1,
   "id": "c2628e6b",
   "metadata": {},
   "outputs": [
    {
     "data": {
      "image/png": "[encoded data removed]",
      "text/plain": [
       "<Figure size 1800x600 with 3 Axes>"
      ]
     },
     "metadata": {},
     "output_type": "display_data"
    }
   ],
   "source": [
    "import pandas as pd\n",
    "import matplotlib.pyplot as plt\n",
    "\n",
    "# данные с сайта\n",
    "data = {\n",
    "    'country': ['Китай', 'Южная Корея', 'Россия', 'Германия', 'Польша'],\n",
    "    '2000': [1269581175, 46766661, 146717783, 81797258, 38258071],\n",
    "    '2010': [1351561514, 48769332, 143934465, 80830924, 38095351],\n",
    "    '2020': [1426106093, 51858482, 146371299, 83628708, 38171012]\n",
    "}\n",
    "\n",
    "df = pd.DataFrame(data)\n",
    "\n",
    "# Создание 3 отдельных графиков\n",
    "fig, axes = plt.subplots(1, 3, figsize=(18, 6))\n",
    "years = ['2000', '2010', '2020']\n",
    "colors = ['#FFA500', '#32CD32', '#8B0000', '#0000FF', '#000000']\n",
    "\n",
    "# Сортировка и построение\n",
    "for i, year in enumerate(years):\n",
    "    sorted_data = df.sort_values(year, ascending=False)\n",
    "    bars = axes[i].bar(sorted_data['country'], sorted_data[year], color=colors)\n",
    "    \n",
    "    axes[i].set_title(f'Население в {year} году', fontsize=18, fontweight='bold')\n",
    "    axes[i].set_ylabel('Население', fontsize=12)\n",
    "\n",
    "    # подписи на столбцах\n",
    "    for bar in bars:\n",
    "        height = bar.get_height()\n",
    "        axes[i].text(bar.get_x() + bar.get_width()/2, height,\n",
    "                     f'{height/1e6:.1f}M',\n",
    "                     ha='center', va='bottom', fontweight='bold')\n",
    "\n",
    "plt.tight_layout()\n",
    "plt.show()\n"
   ]
  }
 ],
 "metadata": {
  "kernelspec": {
   "display_name": "Python 3",
   "language": "python",
   "name": "python3"
  },
  "language_info": {
   "codemirror_mode": {
    "name": "ipython",
    "version": 3
   },
   "file_extension": ".py",
   "mimetype": "text/x-python",
   "name": "python",
   "nbconvert_exporter": "python",
   "pygments_lexer": "ipython3",
   "version": "3.13.7"
  }
 },
 "nbformat": 4,
 "nbformat_minor": 5
}
